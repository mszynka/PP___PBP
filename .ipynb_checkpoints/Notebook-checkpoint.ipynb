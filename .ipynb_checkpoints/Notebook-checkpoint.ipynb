{
 "cells": [
  {
   "cell_type": "markdown",
   "metadata": {},
   "source": [
    "# Równoważenia obciążenia przez alokację shardów"
   ]
  },
  {
   "cell_type": "markdown",
   "metadata": {},
   "source": [
    "Inicjalizacja środowiska"
   ]
  },
  {
   "cell_type": "code",
   "execution_count": 1,
   "metadata": {},
   "outputs": [],
   "source": [
    "import pprint\n",
    "import numpy as np\n",
    "pp = pprint.PrettyPrinter(indent=1, width=140)"
   ]
  },
  {
   "cell_type": "markdown",
   "metadata": {},
   "source": [
    "Inicjalizacja wektora obciążeń poszczególnych shardów (F)"
   ]
  },
  {
   "cell_type": "code",
   "execution_count": 2,
   "metadata": {},
   "outputs": [
    {
     "name": "stdout",
     "output_type": "stream",
     "text": [
      "array([[7, 7, 7, 3, 4, 1, 3, 5, 1, 5, 7, 2, 1, 8, 3, 2, 2, 3, 2, 3],\n",
      "       [8, 3, 4, 3, 7, 4, 8, 7, 3, 2, 2, 3, 2, 2, 4, 7, 3, 6, 8, 6],\n",
      "       [3, 3, 1, 4, 1, 1, 4, 5, 6, 3, 5, 3, 7, 8, 2, 8, 5, 1, 6, 5],\n",
      "       [6, 4, 6, 7, 1, 3, 1, 1, 4, 1, 7, 6, 8, 3, 3, 1, 2, 1, 6, 8],\n",
      "       [7, 1, 2, 3, 7, 3, 7, 5, 8, 8, 3, 6, 8, 3, 5, 4, 6, 2, 6, 8],\n",
      "       [8, 6, 6, 6, 5, 3, 2, 3, 7, 3, 1, 1, 4, 1, 5, 6, 4, 3, 6, 1],\n",
      "       [6, 3, 5, 7, 7, 8, 7, 8, 3, 4, 3, 2, 7, 5, 5, 7, 4, 3, 2, 5],\n",
      "       [6, 7, 4, 1, 5, 2, 2, 3, 1, 1, 4, 5, 2, 7, 5, 7, 6, 6, 6, 8],\n",
      "       [1, 6, 7, 3, 4, 5, 2, 8, 4, 4, 1, 1, 8, 7, 7, 3, 6, 2, 8, 7],\n",
      "       [5, 1, 4, 6, 1, 7, 2, 4, 2, 1, 4, 6, 6, 4, 2, 5, 6, 7, 1, 3],\n",
      "       [5, 3, 5, 7, 1, 3, 8, 8, 5, 6, 1, 3, 4, 8, 4, 5, 4, 6, 4, 3],\n",
      "       [6, 8, 4, 4, 4, 6, 8, 1, 4, 2, 3, 2, 3, 8, 3, 1, 8, 6, 8, 6],\n",
      "       [3, 7, 2, 2, 5, 4, 4, 1, 4, 8, 1, 6, 8, 1, 2, 8, 6, 8, 4, 7],\n",
      "       [5, 7, 7, 1, 3, 3, 7, 1, 6, 8, 8, 2, 4, 2, 1, 8, 4, 5, 1, 1],\n",
      "       [5, 7, 3, 1, 2, 2, 8, 5, 1, 6, 4, 5, 6, 2, 7, 4, 5, 2, 1, 5],\n",
      "       [8, 7, 2, 7, 2, 4, 2, 1, 4, 6, 6, 4, 2, 8, 7, 8, 5, 8, 2, 2],\n",
      "       [2, 7, 6, 7, 3, 6, 6, 2, 7, 7, 1, 4, 3, 6, 5, 7, 3, 8, 1, 1],\n",
      "       [1, 5, 1, 1, 7, 7, 2, 1, 3, 1, 6, 2, 2, 2, 1, 3, 1, 3, 6, 5],\n",
      "       [8, 8, 1, 8, 5, 1, 8, 1, 6, 1, 7, 5, 2, 6, 8, 1, 8, 7, 2, 2],\n",
      "       [2, 4, 3, 3, 4, 5, 7, 5, 3, 5, 6, 1, 4, 8, 7, 4, 8, 3, 8, 1],\n",
      "       [5, 3, 3, 6, 5, 3, 8, 2, 4, 2, 6, 1, 2, 4, 2, 3, 7, 2, 4, 5],\n",
      "       [8, 7, 5, 7, 1, 4, 1, 5, 1, 6, 1, 8, 4, 5, 6, 5, 3, 7, 2, 7],\n",
      "       [8, 4, 4, 2, 4, 4, 8, 2, 6, 6, 8, 5, 4, 2, 6, 7, 1, 1, 2, 4],\n",
      "       [6, 4, 7, 5, 7, 8, 4, 4, 8, 6, 4, 8, 7, 7, 1, 4, 2, 3, 5, 5]])\n"
     ]
    }
   ],
   "source": [
    "np.random.seed(23456789)\n",
    "\n",
    "F = np.random.randint(1,9, size=(24, 20))\n",
    "pp.pprint(F)"
   ]
  },
  {
   "cell_type": "markdown",
   "metadata": {},
   "source": [
    "Wyznaczenie ilości węzłów chmury (n)"
   ]
  },
  {
   "cell_type": "code",
   "execution_count": 3,
   "metadata": {},
   "outputs": [],
   "source": [
    "n = 3"
   ]
  },
  {
   "cell_type": "markdown",
   "metadata": {},
   "source": [
    "Wyznaczenie sumarycznego wektora obciążenia całej chmury"
   ]
  },
  {
   "cell_type": "code",
   "execution_count": 4,
   "metadata": {},
   "outputs": [],
   "source": [
    "wts = sum([sum(x) for x in F])"
   ]
  },
  {
   "cell_type": "markdown",
   "metadata": {},
   "source": [
    "Wyznaczenie względnego obciążenia przypadającego na jeden węzeł chmury"
   ]
  },
  {
   "cell_type": "code",
   "execution_count": 5,
   "metadata": {},
   "outputs": [],
   "source": [
    "nwts = wts/n"
   ]
  },
  {
   "cell_type": "markdown",
   "metadata": {},
   "source": [
    "#TODO: Posortuj F po sumie"
   ]
  },
  {
   "cell_type": "markdown",
   "metadata": {},
   "source": [
    "Alokowanie wektorów shardów względem posortowanego obciążenia"
   ]
  },
  {
   "cell_type": "code",
   "execution_count": 6,
   "metadata": {},
   "outputs": [
    {
     "name": "stdout",
     "output_type": "stream",
     "text": [
      "[[51, 34, 35, 34, 37, 25, 34, 37, 33, 27, 32, 28, 39, 37, 32, 42, 32, 25, 42, 44],\n",
      " [31, 44, 33, 25, 27, 37, 41, 29, 29, 36, 28, 27, 41, 34, 27, 37, 40, 39, 33, 37],\n",
      " [47, 44, 31, 45, 31, 35, 44, 22, 39, 39, 39, 36, 28, 46, 42, 39, 37, 39, 26, 27]]\n"
     ]
    }
   ],
   "source": [
    "N = [[y*0 for y in F[0]] for x in range(0, n)]\n",
    "for shard in F:\n",
    "    sumaSharda = sum(shard)\n",
    "\n",
    "    maxValue = None\n",
    "    maxNodeIndex = None\n",
    "\n",
    "    for index, node in enumerate(N):\n",
    "        sumaWezla = sum(node)\n",
    "        if(sumaWezla > nwts):\n",
    "            continue\n",
    "\n",
    "        value = abs(nwts-sumaWezla)-abs(nwts-(sumaWezla+sumaSharda))\n",
    "\n",
    "        if(maxValue is None or value > maxValue):\n",
    "            maxValue=value\n",
    "            maxNodeIndex=index\n",
    "\n",
    "    # suma dwóch wektorów\n",
    "    N[maxNodeIndex]=list(map(sum, zip(N[maxNodeIndex], shard)))\n",
    "\n",
    "pp.pprint(N)"
   ]
  },
  {
   "cell_type": "markdown",
   "metadata": {},
   "source": [
    "Określenie średniej mocy chmury"
   ]
  },
  {
   "cell_type": "code",
   "execution_count": 7,
   "metadata": {},
   "outputs": [],
   "source": [
    "power = 15"
   ]
  },
  {
   "cell_type": "markdown",
   "metadata": {},
   "source": [
    "Wyznaczenie średniego obciążenia każdego węzła chmury"
   ]
  },
  {
   "cell_type": "code",
   "execution_count": 8,
   "metadata": {},
   "outputs": [
    {
     "name": "stdout",
     "output_type": "stream",
     "text": [
      "[4217, 3823, 4820]\n"
     ]
    }
   ],
   "source": [
    "loadN = list()\n",
    "for node in N:\n",
    "    nodeLoad = 0\n",
    "    for index, value in enumerate(node):\n",
    "        load = value-power\n",
    "        if(load > 0):\n",
    "            if(index < len(node)-1):\n",
    "                node[index+1] += load\n",
    "            nodeLoad += load\n",
    "        \n",
    "    loadN.append(nodeLoad)\n",
    "\n",
    "pp.pprint(loadN)"
   ]
  },
  {
   "cell_type": "code",
   "execution_count": null,
   "metadata": {},
   "outputs": [],
   "source": []
  }
 ],
 "metadata": {
  "kernelspec": {
   "display_name": "Python 3",
   "language": "python",
   "name": "python3"
  },
  "language_info": {
   "codemirror_mode": {
    "name": "ipython",
    "version": 3
   },
   "file_extension": ".py",
   "mimetype": "text/x-python",
   "name": "python",
   "nbconvert_exporter": "python",
   "pygments_lexer": "ipython3",
   "version": "3.7.0"
  }
 },
 "nbformat": 4,
 "nbformat_minor": 2
}
