{
 "cells": [
  {
   "cell_type": "markdown",
   "metadata": {},
   "source": [
    "# Równoważenia obciążenia przez alokację shardów"
   ]
  },
  {
   "cell_type": "markdown",
   "metadata": {},
   "source": [
    "Inicjalizacja środowiska"
   ]
  },
  {
   "cell_type": "code",
   "execution_count": 1,
   "metadata": {},
   "outputs": [],
   "source": [
    "import pprint"
   ]
  },
  {
   "cell_type": "markdown",
   "metadata": {},
   "source": [
    "Inicjalizacja wektora obciążeń poszczególnych shardów (F)"
   ]
  },
  {
   "cell_type": "code",
   "execution_count": 2,
   "metadata": {},
   "outputs": [],
   "source": [
    "F = [\n",
    "    [1,2,3,4,5,6,7,8,9,1,3,4,2,6,4,5],\n",
    "    [3,4,5,6,7,8,9,3,3,3,3,4,2,6,7,5],\n",
    "    [3,4,5,6,3,3,9,3,3,3,3,4,4,6,4,5],\n",
    "    [1,2,3,4,5,6,7,8,9,1,3,4,2,5,4,5],\n",
    "    [3,4,5,2,7,8,9,3,3,3,3,4,2,6,5,5],\n",
    "    [3,4,5,4,3,3,9,3,3,3,3,4,2,3,4,5],\n",
    "    [1,2,3,4,5,6,7,8,9,1,3,4,2,7,4,5],\n",
    "    [3,4,5,7,7,8,9,3,3,3,3,4,2,9,4,5],\n",
    "    [3,4,5,6,2,3,4,3,3,3,3,4,2,3,4,5],\n",
    "    [1,2,3,9,6,6,7,8,9,1,3,4,2,2,4,5],\n",
    "    [3,4,5,6,5,8,9,3,3,3,3,4,2,6,6,5],\n",
    "    [3,4,5,3,4,3,9,3,3,3,3,4,2,6,1,5],\n",
    "]"
   ]
  },
  {
   "cell_type": "markdown",
   "metadata": {},
   "source": [
    "Wyznaczenie ilości węzłów chmury (n)"
   ]
  },
  {
   "cell_type": "code",
   "execution_count": 3,
   "metadata": {},
   "outputs": [],
   "source": [
    "n = 3"
   ]
  },
  {
   "cell_type": "markdown",
   "metadata": {},
   "source": [
    "Wyznaczenie sumarycznego wektora obciążenia całej chmury"
   ]
  },
  {
   "cell_type": "code",
   "execution_count": 4,
   "metadata": {},
   "outputs": [],
   "source": [
    "wts = sum([sum(x) for x in F])"
   ]
  },
  {
   "cell_type": "markdown",
   "metadata": {},
   "source": [
    "Wyznaczenie względnego obciążenia przypadającego na jeden węzeł chmury"
   ]
  },
  {
   "cell_type": "code",
   "execution_count": 5,
   "metadata": {},
   "outputs": [],
   "source": [
    "nwts = wts/n"
   ]
  },
  {
   "cell_type": "markdown",
   "metadata": {},
   "source": [
    "#TODO: Posortuj F po sumie"
   ]
  },
  {
   "cell_type": "markdown",
   "metadata": {},
   "source": [
    "Alokowanie wektorów shardów względem posortowanego obciążenia"
   ]
  },
  {
   "cell_type": "code",
   "execution_count": 6,
   "metadata": {},
   "outputs": [
    {
     "name": "stdout",
     "output_type": "stream",
     "text": [
      "[[10, 14, 18, 20, 18, 20, 34, 17, 18, 10, 12, 16, 10, 21, 19, 20],\n",
      " [8, 12, 16, 16, 19, 23, 27, 22, 24, 8, 12, 16, 8, 21, 17, 20],\n",
      " [10, 14, 18, 25, 22, 25, 34, 17, 18, 10, 12, 16, 8, 23, 15, 20]]\n"
     ]
    }
   ],
   "source": [
    "N = [[y*0 for y in F[0]] for x in range(0, n)]\n",
    "for shard in F:\n",
    "    sumaSharda = sum(shard)\n",
    "\n",
    "    maxValue = None\n",
    "    maxNodeIndex = None\n",
    "\n",
    "    for index, node in enumerate(N):\n",
    "        sumaWezla = sum(node)\n",
    "        if(sumaWezla > nwts):\n",
    "            continue\n",
    "\n",
    "        value = abs(nwts-sumaWezla)-abs(nwts-(sumaWezla+sumaSharda))\n",
    "\n",
    "        if(maxValue is None or value > maxValue):\n",
    "            maxValue=value\n",
    "            maxNodeIndex=index\n",
    "\n",
    "    # suma dwóch wektorów\n",
    "    N[maxNodeIndex]=list(map(sum, zip(N[maxNodeIndex], shard)))\n",
    "\n",
    "pp = pprint.PrettyPrinter(indent=1)\n",
    "pp.pprint(N)"
   ]
  },
  {
   "cell_type": "markdown",
   "metadata": {},
   "source": [
    "Określenie średniej mocy chmury"
   ]
  },
  {
   "cell_type": "code",
   "execution_count": 7,
   "metadata": {},
   "outputs": [],
   "source": [
    "power = 15"
   ]
  },
  {
   "cell_type": "markdown",
   "metadata": {},
   "source": [
    "Wyznaczenie średniego obciążenia każdego węzła chmury"
   ]
  },
  {
   "cell_type": "code",
   "execution_count": 8,
   "metadata": {},
   "outputs": [
    {
     "name": "stdout",
     "output_type": "stream",
     "text": [
      "[393, 355, 551]\n"
     ]
    }
   ],
   "source": [
    "loadN = list()\n",
    "for node in N:\n",
    "    nodeLoad = 0\n",
    "    for index, value in enumerate(node):\n",
    "        load = value-power\n",
    "        if(load > 0):\n",
    "            if(index < len(node)-1):\n",
    "                node[index+1] += load\n",
    "            nodeLoad += load\n",
    "        \n",
    "    loadN.append(nodeLoad)\n",
    "\n",
    "pp.pprint(loadN)"
   ]
  },
  {
   "cell_type": "code",
   "execution_count": null,
   "metadata": {},
   "outputs": [],
   "source": []
  }
 ],
 "metadata": {
  "kernelspec": {
   "display_name": "Python 3",
   "language": "python",
   "name": "python3"
  },
  "language_info": {
   "codemirror_mode": {
    "name": "ipython",
    "version": 3
   },
   "file_extension": ".py",
   "mimetype": "text/x-python",
   "name": "python",
   "nbconvert_exporter": "python",
   "pygments_lexer": "ipython3",
   "version": "3.7.0"
  }
 },
 "nbformat": 4,
 "nbformat_minor": 2
}
