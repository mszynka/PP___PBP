{
 "cells": [
  {
   "cell_type": "markdown",
   "metadata": {},
   "source": [
    "# Równoważenia obciążenia przez alokację shardów"
   ]
  },
  {
   "cell_type": "markdown",
   "metadata": {},
   "source": [
    "Inicjalizacja środowiska"
   ]
  },
  {
   "cell_type": "code",
   "execution_count": 1,
   "metadata": {},
   "outputs": [],
   "source": [
    "import pprint\n",
    "import operator\n",
    "import numpy as np\n",
    "import matplotlib.pyplot as plt\n",
    "\n",
    "pp = pprint.PrettyPrinter(indent=1, width=140)"
   ]
  },
  {
   "cell_type": "markdown",
   "metadata": {},
   "source": [
    "Inicjalizacja wektora obciążeń poszczególnych shardów (F)"
   ]
  },
  {
   "cell_type": "code",
   "execution_count": 2,
   "metadata": {},
   "outputs": [
    {
     "name": "stdout",
     "output_type": "stream",
     "text": [
      "array([[6, 6, 2, ..., 8, 8, 7],\n",
      "       [6, 2, 1, ..., 4, 8, 0],\n",
      "       [1, 8, 0, ..., 0, 8, 2],\n",
      "       ...,\n",
      "       [0, 0, 8, ..., 1, 1, 6],\n",
      "       [8, 4, 7, ..., 2, 8, 1],\n",
      "       [2, 0, 3, ..., 6, 7, 8]])\n",
      "(250, 100)\n"
     ]
    }
   ],
   "source": [
    "np.random.seed(23456789)\n",
    "\n",
    "F_baze = np.random.randint(0,9, size=(250, 100))\n",
    "pp.pprint(F_baze)\n",
    "print(np.array(F_baze).shape)"
   ]
  },
  {
   "cell_type": "markdown",
   "metadata": {},
   "source": [
    "Wyznaczenie ilości węzłów chmury (n)"
   ]
  },
  {
   "cell_type": "code",
   "execution_count": 3,
   "metadata": {},
   "outputs": [],
   "source": [
    "n = 30"
   ]
  },
  {
   "cell_type": "markdown",
   "metadata": {},
   "source": [
    "Wyznaczenie sumarycznego wektora obciążenia całej chmury"
   ]
  },
  {
   "cell_type": "code",
   "execution_count": 4,
   "metadata": {},
   "outputs": [],
   "source": [
    "wts = list(map(sum, zip(*F_baze)))"
   ]
  },
  {
   "cell_type": "markdown",
   "metadata": {},
   "source": [
    "Wyznaczenie względnego obciążenia przypadającego na jeden węzeł chmury"
   ]
  },
  {
   "cell_type": "code",
   "execution_count": 5,
   "metadata": {},
   "outputs": [],
   "source": [
    "nwts = sum(list(wts))"
   ]
  },
  {
   "cell_type": "markdown",
   "metadata": {},
   "source": [
    "Sortowanie względem modułu"
   ]
  },
  {
   "cell_type": "code",
   "execution_count": 6,
   "metadata": {},
   "outputs": [],
   "source": [
    "F=sorted([x * n for x in F_baze],key=sum, reverse=True)"
   ]
  },
  {
   "cell_type": "markdown",
   "metadata": {},
   "source": [
    "Alokowanie wektorów shardów względem posortowanego obciążenia"
   ]
  },
  {
   "cell_type": "code",
   "execution_count": 7,
   "metadata": {},
   "outputs": [],
   "source": [
    "N = [[0 for y in F[x]] for x in range(0, n)]\n",
    "R1 = [[0 for y in F[x]] for x in range(0, n)]\n",
    "\n",
    "for R1_index, shard in enumerate(F):\n",
    "    abs1 = sum(list(map(abs,list(map(operator.sub, wts,shard)))))\n",
    "    maxValue = None\n",
    "    maxNodeIndex = None\n",
    "\n",
    "    for index, node in enumerate(N):\n",
    "        \n",
    "        if(sum(node) >= nwts):\n",
    "            continue\n",
    "            \n",
    "        temp = [node,shard]\n",
    "        abs2 =  sum(list(map(abs,map(operator.sub, wts, [sum(x) for x in zip(*temp)]))))\n",
    "        value=abs2-abs1\n",
    "        \n",
    "        if(maxValue is None or value > maxValue):\n",
    "            maxValue=value\n",
    "            maxNodeIndex=index\n",
    "    \n",
    "    # suma dwoch wektorow\n",
    "    N[maxNodeIndex]=list(map(operator.add, N[maxNodeIndex], list(shard)))\n",
    "    \n",
    "    # przydzielanie shardow losowe\n",
    "    R1[R1_index%n]=list(map(operator.add, R1[R1_index%n], list(shard)))\n",
    "    \n",
    "\n",
    "#powrocenie do zmniejszonej o n \n",
    "N=[[x/n for x in f] for f in N]\n",
    "R1=[[x/n for x in f] for f in R1]"
   ]
  },
  {
   "cell_type": "markdown",
   "metadata": {},
   "source": [
    "Określenie średniej mocy chmury"
   ]
  },
  {
   "cell_type": "code",
   "execution_count": 8,
   "metadata": {},
   "outputs": [],
   "source": [
    "power = 25"
   ]
  },
  {
   "cell_type": "markdown",
   "metadata": {},
   "source": [
    "Wyznaczenie średniego obciążenia w czasie każdego węzła chmury(algorytm)"
   ]
  },
  {
   "cell_type": "code",
   "execution_count": 9,
   "metadata": {},
   "outputs": [
    {
     "data": {
      "image/png": "[encoded data removed]",
      "text/plain": [
       "<Figure size 432x288 with 1 Axes>"
      ]
     },
     "metadata": {
      "needs_background": "light"
     },
     "output_type": "display_data"
    }
   ],
   "source": [
    "width = 0.4\n",
    "Narray = np.transpose(np.array(N))\n",
    "\n",
    "ind = np.arange(n)\n",
    "for index, value in enumerate(N):\n",
    "    plt.bar(range(0,n ), list(Narray[index]), width)\n",
    "    \n",
    "plt.xlabel(\"Nr węzła\")\n",
    "plt.ylabel(\"Obciążenie\")\n",
    "plt.xticks(range(0,n))\n",
    "plt.title(\"Obciążenia węzłów chmury\")\n",
    "plt.show()"
   ]
  },
  {
   "cell_type": "markdown",
   "metadata": {},
   "source": [
    "Wyznaczenie średniego obciążenia w czasie każdego węzła chmury(losowy przydzial)"
   ]
  },
  {
   "cell_type": "code",
   "execution_count": 10,
   "metadata": {},
   "outputs": [
    {
     "data": {
      "image/png": "[encoded data removed]",
      "text/plain": [
       "<Figure size 432x288 with 1 Axes>"
      ]
     },
     "metadata": {
      "needs_background": "light"
     },
     "output_type": "display_data"
    }
   ],
   "source": [
    "width = 0.4\n",
    "Narray = np.transpose(np.array(R1))\n",
    "\n",
    "ind = np.arange(n)\n",
    "for index, value in enumerate(R1):\n",
    "    plt.bar(range(0,n ), list(Narray[index]), width)\n",
    "    \n",
    "plt.xlabel(\"Nr węzła\")\n",
    "plt.ylabel(\"Obciążenie\")\n",
    "plt.xticks(range(0,n))\n",
    "plt.title(\"Obciążenia węzłów chmury\")\n",
    "plt.show()"
   ]
  },
  {
   "cell_type": "markdown",
   "metadata": {},
   "source": [
    "Wyznaczenie średniego przeciążenia każdego węzła chmury"
   ]
  },
  {
   "cell_type": "code",
   "execution_count": 11,
   "metadata": {},
   "outputs": [
    {
     "name": "stdout",
     "output_type": "stream",
     "text": [
      "[54317.0,\n",
      " 15909.0,\n",
      " 55558.0,\n",
      " 55848.0,\n",
      " 17534.0,\n",
      " 53127.0,\n",
      " 19260.0,\n",
      " 54896.0,\n",
      " 52999.0,\n",
      " 16111.0,\n",
      " 60081.0,\n",
      " 59644.0,\n",
      " 14570.0,\n",
      " 54367.0,\n",
      " 52178.0,\n",
      " 17780.0,\n",
      " 55878.0,\n",
      " 53276.0,\n",
      " 15258.0,\n",
      " 54799.0,\n",
      " 51995.0,\n",
      " 52090.0,\n",
      " 58260.0,\n",
      " 53039.0,\n",
      " 49750.0,\n",
      " 53552.0,\n",
      " 20152.0,\n",
      " 55583.0,\n",
      " 15495.0,\n",
      " 17989.0]\n"
     ]
    }
   ],
   "source": [
    "loadN = list()\n",
    "for node in N:\n",
    "    nodeLoad = 0\n",
    "    for index, value in enumerate(node):\n",
    "        load = value-power\n",
    "        if(load > 0):\n",
    "            if(index < len(node)-1):\n",
    "                node[index+1] += load\n",
    "            nodeLoad += load\n",
    "        \n",
    "    loadN.append(nodeLoad)\n",
    "\n",
    "pp.pprint(loadN)"
   ]
  },
  {
   "cell_type": "markdown",
   "metadata": {},
   "source": [
    "Wyznaczenie średniego przeciążenia każdego węzła dla losowego przydziału"
   ]
  },
  {
   "cell_type": "code",
   "execution_count": 12,
   "metadata": {},
   "outputs": [
    {
     "name": "stdout",
     "output_type": "stream",
     "text": [
      "[56544.0,\n",
      " 56980.0,\n",
      " 55776.0,\n",
      " 52815.0,\n",
      " 52256.0,\n",
      " 60167.0,\n",
      " 52235.0,\n",
      " 55057.0,\n",
      " 55596.0,\n",
      " 54657.0,\n",
      " 35196.0,\n",
      " 35476.0,\n",
      " 34007.0,\n",
      " 33352.0,\n",
      " 36022.0,\n",
      " 37916.0,\n",
      " 35187.0,\n",
      " 37689.0,\n",
      " 34668.0,\n",
      " 33875.0,\n",
      " 37985.0,\n",
      " 36546.0,\n",
      " 36603.0,\n",
      " 34808.0,\n",
      " 35693.0,\n",
      " 35120.0,\n",
      " 37160.0,\n",
      " 34272.0,\n",
      " 33445.0,\n",
      " 34418.0]\n"
     ]
    }
   ],
   "source": [
    "loadR1 = list()\n",
    "for node in R1:\n",
    "    nodeLoad = 0\n",
    "    for index, value in enumerate(node):\n",
    "        load = value-power\n",
    "        if(load > 0):\n",
    "            if(index < len(node)-1):\n",
    "                node[index+1] += load\n",
    "            nodeLoad += load\n",
    "        \n",
    "    loadR1.append(nodeLoad)\n",
    "\n",
    "pp.pprint(loadR1)"
   ]
  },
  {
   "cell_type": "markdown",
   "metadata": {},
   "source": [
    "Opóżnienia z algorytmem"
   ]
  },
  {
   "cell_type": "code",
   "execution_count": 13,
   "metadata": {},
   "outputs": [
    {
     "name": "stdout",
     "output_type": "stream",
     "text": [
      "1261295.0\n"
     ]
    }
   ],
   "source": [
    "print(sum(loadN))"
   ]
  },
  {
   "cell_type": "markdown",
   "metadata": {},
   "source": [
    "Opóznienia przydzielanie losowe"
   ]
  },
  {
   "cell_type": "code",
   "execution_count": 14,
   "metadata": {
    "scrolled": true
   },
   "outputs": [
    {
     "name": "stdout",
     "output_type": "stream",
     "text": [
      "1261521.0\n"
     ]
    }
   ],
   "source": [
    "print(sum(loadR1))"
   ]
  },
  {
   "cell_type": "code",
   "execution_count": 15,
   "metadata": {},
   "outputs": [
    {
     "data": {
      "image/png": "[encoded data removed]",
      "text/plain": [
       "<Figure size 432x288 with 1 Axes>"
      ]
     },
     "metadata": {
      "needs_background": "light"
     },
     "output_type": "display_data"
    }
   ],
   "source": [
    "plt.plot(loadN)\n",
    "plt.xlabel(\"Nr węzła\")\n",
    "plt.ylabel(\"Przeciążenie\")\n",
    "plt.axis([0, n, 0, max(loadN)])\n",
    "plt.xticks(range(0,n))\n",
    "plt.title(\"Przeciążenia węzłów chmury\")\n",
    "plt.show()"
   ]
  },
  {
   "cell_type": "code",
   "execution_count": 16,
   "metadata": {},
   "outputs": [
    {
     "data": {
      "image/png": "[encoded data removed]",
      "text/plain": [
       "<Figure size 432x288 with 1 Axes>"
      ]
     },
     "metadata": {
      "needs_background": "light"
     },
     "output_type": "display_data"
    }
   ],
   "source": [
    "plt.plot(loadR1)\n",
    "plt.xlabel(\"Nr węzła\")\n",
    "plt.ylabel(\"Przeciążenie\")\n",
    "plt.axis([0, n, 0, max(loadR1)])\n",
    "plt.xticks(range(0,n))\n",
    "plt.title(\"Przeciążenia węzłów chmury\")\n",
    "plt.show()"
   ]
  }
 ],
 "metadata": {
  "kernelspec": {
   "display_name": "Python 3",
   "language": "python",
   "name": "python3"
  },
  "language_info": {
   "codemirror_mode": {
    "name": "ipython",
    "version": 3
   },
   "file_extension": ".py",
   "mimetype": "text/x-python",
   "name": "python",
   "nbconvert_exporter": "python",
   "pygments_lexer": "ipython3",
   "version": "3.6.7"
  }
 },
 "nbformat": 4,
 "nbformat_minor": 2
}
