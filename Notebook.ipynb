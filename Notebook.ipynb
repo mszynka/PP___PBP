{
 "cells": [
  {
   "cell_type": "markdown",
   "metadata": {},
   "source": [
    "# Równoważenia obciążenia przez alokację shardów"
   ]
  },
  {
   "cell_type": "markdown",
   "metadata": {},
   "source": [
    "Inicjalizacja środowiska"
   ]
  },
  {
   "cell_type": "code",
   "execution_count": 1,
   "metadata": {},
   "outputs": [],
   "source": [
    "import pprint\n",
    "import operator\n",
    "import numpy as np\n",
    "import matplotlib.pyplot as plt\n",
    "import seaborn as sns\n",
    "from scipy.spatial import distance\n",
    "import itertools\n",
    "%matplotlib notebook\n",
    "pp = pprint.PrettyPrinter(indent=1, width=140)\n",
    "sns.set(color_codes=True)\n",
    "plt.rcParams['figure.figsize'] = [7, 4]"
   ]
  },
  {
   "cell_type": "markdown",
   "metadata": {},
   "source": [
    "Inicjalizacja wektora obciążeń poszczególnych shardów (F)"
   ]
  },
  {
   "cell_type": "code",
   "execution_count": 2,
   "metadata": {},
   "outputs": [
    {
     "name": "stdout",
     "output_type": "stream",
     "text": [
      "array([[7.66453587, 6.66192441, 5.3615201 , ..., 6.67318347, 6.75706923,\n",
      "        6.30120981],\n",
      "       [6.64067853, 7.08540122, 6.97698422, ..., 7.97566644, 5.15715268,\n",
      "        8.13467868],\n",
      "       [5.61516121, 7.86733846, 7.14924725, ..., 6.93862102, 6.51528925,\n",
      "        6.64301763],\n",
      "       ...,\n",
      "       [6.04450384, 7.29914501, 6.03548309, ..., 6.06342221, 6.06106462,\n",
      "        5.84151371],\n",
      "       [6.97692326, 6.81407277, 5.89112885, ..., 4.71890367, 7.12459224,\n",
      "        6.18594598],\n",
      "       [6.93547839, 8.14002678, 7.16779923, ..., 4.93422969, 7.77593682,\n",
      "        5.78302775]])\n",
      "(400, 100)\n"
     ]
    }
   ],
   "source": [
    "np.random.seed(23456789)\n",
    "\n",
    "F_base = np.random.normal(loc=7, scale=1, size=(400, 100))\n",
    "pp.pprint(F_base)\n",
    "print(np.array(F_base).shape)"
   ]
  },
  {
   "cell_type": "markdown",
   "metadata": {},
   "source": [
    "Rozkład wartości"
   ]
  },
  {
   "cell_type": "code",
   "execution_count": 3,
   "metadata": {},
   "outputs": [
    {
     "name": "stderr",
     "output_type": "stream",
     "text": [
      "/srv/conda/lib/python3.6/site-packages/scipy/stats/stats.py:1713: FutureWarning: Using a non-tuple sequence for multidimensional indexing is deprecated; use `arr[tuple(seq)]` instead of `arr[seq]`. In the future this will be interpreted as an array index, `arr[np.array(seq)]`, which will result either in an error or a different result.\n",
      "  return np.add.reduce(sorted[indexer] * weights, axis=axis) / sumval\n"
     ]
    },
    {
     "data": {
      "image/png": "[encoded data removed]",
      "text/plain": [
       "<Figure size 432x288 with 1 Axes>"
      ]
     },
     "metadata": {
      "needs_background": "light"
     },
     "output_type": "display_data"
    }
   ],
   "source": [
    "F_base_arr = np.array(F_base)\n",
    "sns.distplot(np.apply_along_axis(lambda x: np.mean(x), 1, F_base_arr));"
   ]
  },
  {
   "cell_type": "markdown",
   "metadata": {},
   "source": [
    "Wyznaczenie ilości węzłów chmury (n)"
   ]
  },
  {
   "cell_type": "code",
   "execution_count": 4,
   "metadata": {},
   "outputs": [],
   "source": [
    "n = 20"
   ]
  },
  {
   "cell_type": "markdown",
   "metadata": {},
   "source": [
    "Wyznaczenie sumarycznego wektora obciążenia całej chmury"
   ]
  },
  {
   "cell_type": "code",
   "execution_count": 5,
   "metadata": {},
   "outputs": [],
   "source": [
    "wts = list(map(sum, zip(*F_base)))"
   ]
  },
  {
   "cell_type": "markdown",
   "metadata": {},
   "source": [
    "Wyznaczenie względnego obciążenia przypadającego na jeden węzeł chmury"
   ]
  },
  {
   "cell_type": "code",
   "execution_count": 6,
   "metadata": {},
   "outputs": [],
   "source": [
    "nwts = sum(list(wts))"
   ]
  },
  {
   "cell_type": "markdown",
   "metadata": {},
   "source": [
    "Sortowanie względem modułu"
   ]
  },
  {
   "cell_type": "code",
   "execution_count": 7,
   "metadata": {},
   "outputs": [],
   "source": [
    "F=sorted([x * n for x in F_base],key=sum, reverse=True)"
   ]
  },
  {
   "cell_type": "markdown",
   "metadata": {},
   "source": [
    "Alokowanie wektorów shardów względem posortowanego obciążenia"
   ]
  },
  {
   "cell_type": "code",
   "execution_count": 8,
   "metadata": {},
   "outputs": [],
   "source": [
    "N = [[0 for y in F[x]] for x in range(0, n)]\n",
    "R1 = [[0 for y in F[x]] for x in range(0, n)]\n",
    "R2 = [[0 for y in F[x]] for x in range(0, int(n/2))]\n",
    "R4 = [[0 for y in F[x]] for x in range(0, int(n/4))]\n",
    "\n",
    "for R1_index, shard in enumerate(F):\n",
    "    #\n",
    "    maxValue = None\n",
    "    maxNodeIndex = None\n",
    "\n",
    "    for index, node in enumerate(N):\n",
    "        \n",
    "        if(sum(node) >= nwts):\n",
    "            continue\n",
    "        abs1 = abs(distance.euclidean(wts , node))\n",
    "        temp  = [node,shard]\n",
    "        abs2 = abs(distance.euclidean(wts,  [sum(x) for x in zip(*temp)]))\n",
    "        value = abs1-abs2\n",
    "        \n",
    "        if(maxValue is None or value > maxValue):\n",
    "            maxValue=value\n",
    "            maxNodeIndex=index\n",
    "    \n",
    "    # suma dwoch wektorow\n",
    "    N[maxNodeIndex]=list(map(operator.add, N[maxNodeIndex], list(shard)))\n",
    "    \n",
    "    # przydzielanie shardow losowe\n",
    "    R1[R1_index%n]=list(map(operator.add, R1[R1_index%n], F_base[R1_index]))\n",
    "    \n",
    "    # przydzielanie shardow losowe - replikacja podwojna\n",
    "    R2[R1_index%int(n/2)]=list(map(operator.add, R2[R1_index%int(n/2)], F_base[R1_index]))\n",
    "    \n",
    "    # przydzielanie shardow losowe - replikacja poczwórna\n",
    "    R4[R1_index%int(n/4)]=list(map(operator.add, R4[R1_index%int(n/4)], F_base[R1_index]))\n",
    "    \n",
    "#powrocenie do zmniejszonej o n \n",
    "N=[[x/n for x in f] for f in N]\n"
   ]
  },
  {
   "cell_type": "markdown",
   "metadata": {},
   "source": [
    "Określenie średniej mocy chmury"
   ]
  },
  {
   "cell_type": "code",
   "execution_count": 9,
   "metadata": {},
   "outputs": [],
   "source": [
    "power = 140"
   ]
  },
  {
   "cell_type": "markdown",
   "metadata": {},
   "source": [
    "Wyznaczenie średniego obciążenia w czasie każdego węzła chmury(algorytm vs losowy przydział)"
   ]
  },
  {
   "cell_type": "code",
   "execution_count": 10,
   "metadata": {
    "scrolled": true
   },
   "outputs": [
    {
     "data": {
      "image/png": "[encoded data removed]",
      "text/plain": [
       "<Figure size 432x288 with 2 Axes>"
      ]
     },
     "metadata": {
      "needs_background": "light"
     },
     "output_type": "display_data"
    }
   ],
   "source": [
    "width = 0.4\n",
    "Narray = np.transpose(np.array(N))\n",
    "NR1array = np.transpose(np.array(R1))\n",
    "NR2array = np.transpose(np.array(R2))\n",
    "\n",
    "f, (ax1, ax2) = plt.subplots(1, 2, sharey=True)\n",
    "\n",
    "plt.xlabel(\"Nr węzła\")\n",
    "plt.ylabel(\"Obciążenie\")\n",
    "plt.title(\"Obciążenia węzłów chmury wg. alg vs wg. przydziału losowego\")\n",
    "\n",
    "ind = np.arange(n)\n",
    "for index, value in enumerate(N):\n",
    "    ax1.bar(range(0,n ), list(Narray[index]), width)\n",
    "    ax2.bar(range(0,n ), list(NR1array[index]), width)\n",
    "    #ax2.bar(range(0,n ), list(NR2array[index]), width)\n",
    "\n",
    "plt.show()"
   ]
  },
  {
   "cell_type": "markdown",
   "metadata": {},
   "source": [
    "Wyznaczenie średniego przeciążenia każdego węzła chmury"
   ]
  },
  {
   "cell_type": "code",
   "execution_count": 11,
   "metadata": {},
   "outputs": [],
   "source": [
    "loadN = list()\n",
    "for node in N:\n",
    "    nodeLoad = 0\n",
    "    for index, value in enumerate(node):\n",
    "        load = value-power\n",
    "        if(load > 0):\n",
    "            if(index < len(node)-1):\n",
    "                node[index+1] += load\n",
    "            nodeLoad += load\n",
    "        \n",
    "    loadN.append(nodeLoad)"
   ]
  },
  {
   "cell_type": "markdown",
   "metadata": {},
   "source": [
    "Wyznaczenie średniego przeciążenia każdego węzła dla losowego przydziału"
   ]
  },
  {
   "cell_type": "code",
   "execution_count": 12,
   "metadata": {},
   "outputs": [],
   "source": [
    "loadR1 = list()\n",
    "for node in R1:\n",
    "    nodeLoad = 0\n",
    "    for index, value in enumerate(node):\n",
    "        load = value-power\n",
    "        if(load > 0):\n",
    "            if(index < len(node)-1):\n",
    "                node[index+1] += load\n",
    "            nodeLoad += load\n",
    "        \n",
    "    loadR1.append(nodeLoad)"
   ]
  },
  {
   "cell_type": "markdown",
   "metadata": {},
   "source": [
    "Wyznaczenie średniego przeciążenia każdego węzła dla losowego przydziału - podwójnej replikacji"
   ]
  },
  {
   "cell_type": "code",
   "execution_count": 13,
   "metadata": {},
   "outputs": [],
   "source": [
    "loadR2 = list()\n",
    "for node in R2:\n",
    "    nodeLoad = 0\n",
    "    for index, value in enumerate(node):\n",
    "        load = value-(power*2)\n",
    "        if(load > 0):\n",
    "            if(index < len(node)-1):\n",
    "                node[index+1] += load\n",
    "            nodeLoad += load\n",
    "        \n",
    "    loadR2.append(nodeLoad)"
   ]
  },
  {
   "cell_type": "markdown",
   "metadata": {},
   "source": [
    "Wyznaczenie średniego przeciążenia każdego węzła dla losowego przydziału - poczwórna replikacji"
   ]
  },
  {
   "cell_type": "code",
   "execution_count": 14,
   "metadata": {},
   "outputs": [],
   "source": [
    "loadR4 = list()\n",
    "for node in R4:\n",
    "    nodeLoad = 0\n",
    "    for index, value in enumerate(node):\n",
    "        load = value-(power*4)\n",
    "        if(load > 0):\n",
    "            if(index < len(node)-1):\n",
    "                node[index+1] += load\n",
    "            nodeLoad += load\n",
    "        \n",
    "    loadR4.append(nodeLoad)"
   ]
  },
  {
   "cell_type": "markdown",
   "metadata": {},
   "source": [
    "Opóźnienia z algorytmem"
   ]
  },
  {
   "cell_type": "code",
   "execution_count": 15,
   "metadata": {},
   "outputs": [
    {
     "name": "stdout",
     "output_type": "stream",
     "text": [
      "27507.000985576986\n"
     ]
    }
   ],
   "source": [
    "print(sum(loadN))"
   ]
  },
  {
   "cell_type": "markdown",
   "metadata": {},
   "source": [
    "Opóźnienia przydzielanie losowe"
   ]
  },
  {
   "cell_type": "code",
   "execution_count": 16,
   "metadata": {
    "scrolled": true
   },
   "outputs": [
    {
     "name": "stdout",
     "output_type": "stream",
     "text": [
      "44032.18502837737\n"
     ]
    }
   ],
   "source": [
    "print(sum(loadR1))"
   ]
  },
  {
   "cell_type": "markdown",
   "metadata": {},
   "source": [
    "Opóźnienia przydzielanie losowe - replikacja podwójna"
   ]
  },
  {
   "cell_type": "code",
   "execution_count": 17,
   "metadata": {},
   "outputs": [
    {
     "name": "stdout",
     "output_type": "stream",
     "text": [
      "32248.97174248916\n"
     ]
    }
   ],
   "source": [
    "print(sum(loadR2))"
   ]
  },
  {
   "cell_type": "markdown",
   "metadata": {},
   "source": [
    "Opóźnienia przydzielanie losowe - replikacja poczwórna"
   ]
  },
  {
   "cell_type": "code",
   "execution_count": 18,
   "metadata": {},
   "outputs": [
    {
     "name": "stdout",
     "output_type": "stream",
     "text": [
      "23039.430696601812\n"
     ]
    }
   ],
   "source": [
    "print(sum(loadR4))"
   ]
  },
  {
   "cell_type": "code",
   "execution_count": 19,
   "metadata": {},
   "outputs": [
    {
     "data": {
      "image/png": "[encoded data removed]",
      "text/plain": [
       "<Figure size 432x288 with 1 Axes>"
      ]
     },
     "metadata": {
      "needs_background": "light"
     },
     "output_type": "display_data"
    }
   ],
   "source": [
    "loadN_powerRelated = [x/(len(F_base[0]))*power for x in loadN]\n",
    "plt.plot(loadN_powerRelated)\n",
    "\n",
    "loadR1_powerRelated = [x/(len(F_base[0]))*power for x in loadR1]\n",
    "plt.plot(loadR1_powerRelated)\n",
    "\n",
    "loadR2_powerRelated = [x/(len(F_base[0]))*power for x in loadR2]\n",
    "plt.plot(loadR2_powerRelated)\n",
    "\n",
    "loadR2_powerRelated = [x/(len(F_base[0]))*power for x in loadR4]\n",
    "plt.plot(loadR2_powerRelated)\n",
    "\n",
    "plt.xlabel(\"Nr węzła\")\n",
    "plt.ylabel(\"Przeciążenie\")\n",
    "plt.axis([0, n, -5, max(itertools.chain(loadN, loadR1,loadR2,loadR4))/(len(F_base[0]))*power+5])\n",
    "plt.xticks(range(0,n))\n",
    "plt.title(\"Przeciążenia węzłów chmury\")\n",
    "plt.legend([\"Algorytm\", \"Losowo\",\"Replikacja-2\"])\n",
    "plt.show()"
   ]
  }
 ],
 "metadata": {
  "kernelspec": {
   "display_name": "Python 3",
   "language": "python",
   "name": "python3"
  },
  "language_info": {
   "codemirror_mode": {
    "name": "ipython",
    "version": 3
   },
   "file_extension": ".py",
   "mimetype": "text/x-python",
   "name": "python",
   "nbconvert_exporter": "python",
   "pygments_lexer": "ipython3",
   "version": "3.6.7"
  }
 },
 "nbformat": 4,
 "nbformat_minor": 2
}
