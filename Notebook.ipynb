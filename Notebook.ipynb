{
 "cells": [
  {
   "cell_type": "markdown",
   "metadata": {},
   "source": [
    "# Równoważenia obciążenia przez alokację shardów"
   ]
  },
  {
   "cell_type": "markdown",
   "metadata": {},
   "source": [
    "Inicjalizacja środowiska"
   ]
  },
  {
   "cell_type": "code",
   "execution_count": 1,
   "metadata": {},
   "outputs": [],
   "source": [
    "import pprint\n",
    "import operator\n",
    "import numpy as np\n",
    "import matplotlib.pyplot as plt\n",
    "\n",
    "pp = pprint.PrettyPrinter(indent=1, width=140)"
   ]
  },
  {
   "cell_type": "markdown",
   "metadata": {},
   "source": [
    "Inicjalizacja wektora obciążeń poszczególnych shardów (F)"
   ]
  },
  {
   "cell_type": "code",
   "execution_count": 2,
   "metadata": {},
   "outputs": [
    {
     "name": "stdout",
     "output_type": "stream",
     "text": [
      "array([[7, 7, 7, ..., 2, 6, 8],\n",
      "       [8, 6, 6, ..., 7, 1, 3],\n",
      "       [5, 3, 5, ..., 2, 1, 5],\n",
      "       ...,\n",
      "       [2, 6, 7, ..., 1, 4, 8],\n",
      "       [5, 8, 1, ..., 3, 7, 7],\n",
      "       [8, 2, 4, ..., 3, 2, 8]])\n",
      "(250, 100)\n"
     ]
    }
   ],
   "source": [
    "np.random.seed(23456789)\n",
    "\n",
    "F = np.random.randint(1,9, size=(250, 100))\n",
    "pp.pprint(F)\n",
    "print(np.array(F).shape)"
   ]
  },
  {
   "cell_type": "markdown",
   "metadata": {},
   "source": [
    "Wyznaczenie ilości węzłów chmury (n)"
   ]
  },
  {
   "cell_type": "code",
   "execution_count": 3,
   "metadata": {},
   "outputs": [],
   "source": [
    "n = 30"
   ]
  },
  {
   "cell_type": "markdown",
   "metadata": {},
   "source": [
    "Wyznaczenie sumarycznego wektora obciążenia całej chmury"
   ]
  },
  {
   "cell_type": "code",
   "execution_count": 4,
   "metadata": {},
   "outputs": [],
   "source": [
    "wts = map(sum, zip(*F))"
   ]
  },
  {
   "cell_type": "markdown",
   "metadata": {},
   "source": [
    "Wyznaczenie względnego obciążenia przypadającego na jeden węzeł chmury"
   ]
  },
  {
   "cell_type": "code",
   "execution_count": 5,
   "metadata": {},
   "outputs": [],
   "source": [
    "nwts = sum(list(wts))"
   ]
  },
  {
   "cell_type": "markdown",
   "metadata": {},
   "source": [
    "Sortowanie względem modułu"
   ]
  },
  {
   "cell_type": "code",
   "execution_count": 6,
   "metadata": {},
   "outputs": [],
   "source": [
    "F=sorted([x * n for x in F],key=sum)"
   ]
  },
  {
   "cell_type": "markdown",
   "metadata": {},
   "source": [
    "Alokowanie wektorów shardów względem posortowanego obciążenia"
   ]
  },
  {
   "cell_type": "code",
   "execution_count": 7,
   "metadata": {},
   "outputs": [],
   "source": [
    "N = [[0 for y in F[x]] for x in range(0, n)]\n",
    "for shard in F:\n",
    "    abs1 = sum(map(abs,map(operator.sub, wts,shard)))\n",
    "    maxValue = None\n",
    "    maxNodeIndex = None\n",
    "\n",
    "    for index, node in enumerate(N):\n",
    "        \n",
    "        if(sum(node) >= nwts):\n",
    "            continue\n",
    "            \n",
    "        temp = [node,shard]\n",
    "        abs2 =  sum(map(abs,map(operator.sub, wts, [sum(x) for x in zip(*temp)])))\n",
    "        \n",
    "        value=abs2-abs1\n",
    "        \n",
    "        if(maxValue is None or value > maxValue):\n",
    "            maxValue=value\n",
    "            maxNodeIndex=index\n",
    "    \n",
    "    # suma dwoch wektorow\n",
    "    N[maxNodeIndex]=list(map(operator.add, N[maxNodeIndex], list(shard)))\n",
    "\n",
    "#powrocenie do zmniejszonej o n \n",
    "N=[[x/n for x in f] for f in N]"
   ]
  },
  {
   "cell_type": "markdown",
   "metadata": {},
   "source": [
    "Określenie średniej mocy chmury"
   ]
  },
  {
   "cell_type": "code",
   "execution_count": 8,
   "metadata": {},
   "outputs": [],
   "source": [
    "power = 20"
   ]
  },
  {
   "cell_type": "markdown",
   "metadata": {},
   "source": [
    "Wyznaczenie średniego obciążenia w czasie każdego węzła chmury"
   ]
  },
  {
   "cell_type": "code",
   "execution_count": 9,
   "metadata": {},
   "outputs": [
    {
     "data": {
      "image/png": "[encoded data removed]",
      "text/plain": [
       "<Figure size 432x288 with 1 Axes>"
      ]
     },
     "metadata": {
      "needs_background": "light"
     },
     "output_type": "display_data"
    }
   ],
   "source": [
    "width = 0.4\n",
    "Narray = np.transpose(np.array(N))\n",
    "\n",
    "ind = np.arange(n)\n",
    "for index, value in enumerate(N):\n",
    "    plt.bar(range(0,n ), list(Narray[index]), width)\n",
    "    \n",
    "plt.xlabel(\"Nr węzła\")\n",
    "plt.ylabel(\"Obciążenie\")\n",
    "plt.xticks(range(0,n))\n",
    "plt.title(\"Obciążenia węzłów chmury\")\n",
    "plt.show()"
   ]
  },
  {
   "cell_type": "markdown",
   "metadata": {},
   "source": [
    "Wyznaczenie średniego przeciążenia każdego węzła chmury"
   ]
  },
  {
   "cell_type": "code",
   "execution_count": 10,
   "metadata": {},
   "outputs": [
    {
     "name": "stdout",
     "output_type": "stream",
     "text": [
      "[98285.0,\n",
      " 110355.0,\n",
      " 88736.0,\n",
      " 92906.0,\n",
      " 91241.0,\n",
      " 96911.0,\n",
      " 97681.0,\n",
      " 95732.0,\n",
      " 98283.0,\n",
      " 103175.0,\n",
      " 101170.0,\n",
      " 101312.0,\n",
      " 104921.0,\n",
      " 104263.0,\n",
      " 104714.0,\n",
      " 105758.0,\n",
      " 105253.0,\n",
      " 105821.0,\n",
      " 110940.0,\n",
      " 108181.0,\n",
      " 112024.0,\n",
      " 111700.0,\n",
      " 111761.0,\n",
      " 91673.0,\n",
      " 88197.0,\n",
      " 93067.0,\n",
      " 95743.0,\n",
      " 97573.0,\n",
      " 0,\n",
      " 0]\n"
     ]
    }
   ],
   "source": [
    "loadN = list()\n",
    "for node in N:\n",
    "    nodeLoad = 0\n",
    "    for index, value in enumerate(node):\n",
    "        load = value-power\n",
    "        if(load > 0):\n",
    "            if(index < len(node)-1):\n",
    "                node[index+1] += load\n",
    "            nodeLoad += load\n",
    "        \n",
    "    loadN.append(nodeLoad)\n",
    "\n",
    "pp.pprint(loadN)"
   ]
  },
  {
   "cell_type": "code",
   "execution_count": 11,
   "metadata": {},
   "outputs": [
    {
     "data": {
      "image/png": "[encoded data removed]",
      "text/plain": [
       "<Figure size 432x288 with 1 Axes>"
      ]
     },
     "metadata": {
      "needs_background": "light"
     },
     "output_type": "display_data"
    }
   ],
   "source": [
    "plt.plot(loadN)\n",
    "plt.xlabel(\"Nr węzła\")\n",
    "plt.ylabel(\"Przeciążenie\")\n",
    "plt.axis([0, n, 0, max(loadN)])\n",
    "plt.xticks(range(0,n))\n",
    "plt.title(\"Przeciążenia węzłów chmury\")\n",
    "plt.show()"
   ]
  }
 ],
 "metadata": {
  "kernelspec": {
   "display_name": "Python 3",
   "language": "python",
   "name": "python3"
  },
  "language_info": {
   "codemirror_mode": {
    "name": "ipython",
    "version": 3
   },
   "file_extension": ".py",
   "mimetype": "text/x-python",
   "name": "python",
   "nbconvert_exporter": "python",
   "pygments_lexer": "ipython3",
   "version": "3.7.1"
  }
 },
 "nbformat": 4,
 "nbformat_minor": 2
}
